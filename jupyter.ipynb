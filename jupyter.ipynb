{
 "cells": [
  {
   "cell_type": "code",
   "execution_count": 1,
   "id": "750dd8d5",
   "metadata": {
    "ExecuteTime": {
     "end_time": "2024-03-04T00:08:07.462480Z",
     "start_time": "2024-03-04T00:08:07.365983Z"
    }
   },
   "outputs": [],
   "source": [
    "import glob\n",
    "from collections import Counter, OrderedDict, defaultdict\n",
    "import pysam\n",
    "from pyBioInfo.Range import GRange\n",
    "from pyBioInfo.IO.File import BedFile\n",
    "from pyBioInfo.Utils import ShiftLoader"
   ]
  },
  {
   "cell_type": "markdown",
   "id": "0d941378",
   "metadata": {},
   "source": [
    "# Generated benchmark structural variant calls for HG001"
   ]
  },
  {
   "cell_type": "code",
   "execution_count": 2,
   "id": "b7e1087c",
   "metadata": {
    "ExecuteTime": {
     "end_time": "2024-03-04T00:08:15.022315Z",
     "start_time": "2024-03-04T00:08:07.465764Z"
    },
    "code_folding": [
     42,
     52,
     74,
     78,
     80,
     89,
     96
    ],
    "scrolled": true
   },
   "outputs": [],
   "source": [
    "infile = \"GRCh38_HG001_PacBio_CCS/GRCh38_HG001_PacBio_CCS.sniffles2.filtered.vcf.gz\"\n",
    "outfile = \"GRCh38_HG001_SV_benchmark_callsets.vcf\"\n",
    "\n",
    "records_lt50bp = []\n",
    "records_gt10000bp = []\n",
    "records_failed = []\n",
    "records_imprecise = []\n",
    "records_cluster = []\n",
    "\n",
    "svs = [] # SVLEN >= 50 bp\n",
    "min_cov = 15\n",
    "min_hom_af = 0.9 \n",
    "\n",
    "with pysam.VariantFile(infile) as f, open(outfile, \"w+\") as fw:\n",
    "    for line in str(f.header).strip(\"\\n\").split(\"\\n\"):\n",
    "        if line.startswith(\"##\"):\n",
    "            fw.write(line + \"\\n\")\n",
    "        else:\n",
    "            fw.write('##FORMAT=<ID=IGT,Number=1,Type=String,Description=\"Original input genotype\">\\n')\n",
    "            fw.write('##FORMAT=<ID=IPS,Number=1,Type=String,Description=\"Phase set for IGT\">\\n')\n",
    "            fw.write('##FORMAT=<ID=PS,Number=1,Type=String,Description=\"Phase set for GT\">\\n')\n",
    "            fw.write(\"#CHROM\\tPOS\\tID\\tREF\\tALT\\tQUAL\\tFILTER\\tINFO\\tFORMAT\\tHG001\\n\")\n",
    "    for i, x in enumerate(f):\n",
    "        if i % 1000 == 0:\n",
    "            pass\n",
    "            # print(\"Processed %d\" % i)\n",
    "        precise = x.info[\"PRECISE\"]\n",
    "        svtype = x.info[\"SVTYPE\"]\n",
    "        svlen = abs(x.info[\"SVLEN\"])\n",
    "        af = x.info[\"AF\"]\n",
    "        row = str(x).strip(\"\\n\").split(\"\\t\")\n",
    "        if row[0] == \"chrY\":\n",
    "            continue\n",
    "        d = OrderedDict()\n",
    "        for k, v in zip(row[8].split(\":\"), row[9].split(\":\")):\n",
    "            d[k] = v\n",
    "        d[\"IGT\"] = d[\"GT\"]\n",
    "        dr = int(d[\"DR\"])\n",
    "        dv = int(d[\"DV\"])\n",
    "        cov = dr + dv\n",
    "        FS = row[6].split(\";\")\n",
    "        if FS[0] == \"PASS\":\n",
    "            FS = []\n",
    "        hp, ps, hp_support, ps_support, hp_filter, ps_filter = x.info[\"PHASE\"]\n",
    "        if len(FS) == 0:\n",
    "            if svlen >= 50:\n",
    "                if svlen > 10000:\n",
    "                    records_gt10000bp.append(x)\n",
    "                if cov < min_cov:\n",
    "                    records_failed.append(x)\n",
    "                    FS.append(\"COV_MIN\")\n",
    "                if not precise:\n",
    "                    records_imprecise.append(x)\n",
    "                    \n",
    "                if d[\"GT\"] == \"1/1\":\n",
    "                    d[\"GT\"] = \"1|1\"\n",
    "                    d[\"PS\"] = \"0\"\n",
    "                    if af < min_hom_af:\n",
    "                        records_failed.append(x)\n",
    "                        FS.append(\"GT\")\n",
    "                elif d[\"GT\"] == \"0|1\":\n",
    "                    if hp_filter == \"PASS\" and ps_filter == \"PASS\":\n",
    "                        assert hp == \"1\"\n",
    "                        d[\"GT\"] = \"1|0\"\n",
    "                        d[\"PS\"] = ps\n",
    "                    else:\n",
    "                        d[\"GT\"] = \"0/1\"\n",
    "                        d[\"PS\"] = \".\"\n",
    "                elif d[\"GT\"] == \"1|0\":\n",
    "                    if hp_filter == \"PASS\" and ps_filter == \"PASS\":\n",
    "                        assert hp == \"2\"\n",
    "                        d[\"GT\"] = \"0|1\"\n",
    "                        d[\"PS\"] = ps\n",
    "                    else:\n",
    "                        d[\"GT\"] = \"0/1\"\n",
    "                        d[\"PS\"] = \".\"\n",
    "                elif d[\"GT\"] == \"0/1\": \n",
    "                    d[\"PS\"] = \".\"\n",
    "                    if hp_filter == \"PASS\" and ps_filter == \"PASS\":\n",
    "                        assert Fase\n",
    "                elif d[\"GT\"] == \"1/0\":\n",
    "                    assert False\n",
    "                else:\n",
    "                    records_failed.append(x)\n",
    "                    FS.append(\"GT\")\n",
    "                    d[\"PS\"] = \".\"\n",
    "            else:\n",
    "                records_lt50bp.append(x)\n",
    "                FS.append(\"SVLEN_MIN\")\n",
    "                if cov < min_cov:\n",
    "                    FS.append(\"COV_MIN\")\n",
    "        else:\n",
    "            if svlen >= 50:\n",
    "                records_failed.append(x)\n",
    "            else:\n",
    "                records_lt50bp.append(x)\n",
    "                FS.append(\"SVLEN_MIN\")\n",
    "        \n",
    "        if svlen >= 50:\n",
    "            sv = GRange(chrom=x.chrom, start=x.start, end=x.stop)\n",
    "            sv.record = x\n",
    "            svs.append(sv)\n",
    "        \n",
    "        if len(FS) == 0:\n",
    "            FS = [\"PASS\"]\n",
    "        row[6] = \";\".join(FS)\n",
    "        row[8] = \":\".join(d.keys())\n",
    "        row[9] = \":\".join(d.values())\n",
    "        \n",
    "        fw.write(\"\\t\".join(row) + \"\\n\")\n",
    "\n",
    "svs.sort()\n",
    "loader = ShiftLoader(svs)\n",
    "for sv in svs:\n",
    "    for sv2 in loader.fetch(chrom=sv.chrom, start=sv.start - 1000, end=sv.end + 1000):\n",
    "        if sv2 is sv:\n",
    "            continue\n",
    "        records_cluster.append(sv.record)\n",
    "        break\n",
    "        \n",
    "! bgzip -f {outfile}\n",
    "! tabix -f -p vcf {outfile}.gz"
   ]
  },
  {
   "cell_type": "code",
   "execution_count": 3,
   "id": "3da5a9c2",
   "metadata": {
    "ExecuteTime": {
     "end_time": "2024-03-04T00:08:15.056955Z",
     "start_time": "2024-03-04T00:08:15.046885Z"
    }
   },
   "outputs": [
    {
     "name": "stdout",
     "output_type": "stream",
     "text": [
      "SVs shorter than 50bp: 31655\n",
      "SVs longer than 10kb: 48\n",
      "SVs filter: 3413\n",
      "SVs imprecise: 2558\n",
      "SVs in cluster: 8150\n"
     ]
    }
   ],
   "source": [
    "print(\"SVs shorter than 50bp:\", len(records_lt50bp))\n",
    "print(\"SVs longer than 10kb:\", len(records_gt10000bp))\n",
    "print(\"SVs filter:\", len(records_failed))\n",
    "print(\"SVs imprecise:\", len(records_imprecise))\n",
    "print(\"SVs in cluster:\", len(records_cluster))"
   ]
  },
  {
   "cell_type": "code",
   "execution_count": 4,
   "id": "8353f9e9",
   "metadata": {
    "ExecuteTime": {
     "end_time": "2024-03-04T00:08:16.435832Z",
     "start_time": "2024-03-04T00:08:15.061882Z"
    }
   },
   "outputs": [],
   "source": [
    "sizes = \"/home/chenzonggui/species/homo_sapiens/GRCh38.p13/GRCh38.canonical.genome.sizes\"\n",
    "\n",
    "outfile1 = \"stratifications/GRC38_HG001_SV_lt50bp.bed\"\n",
    "outfile2 = \"stratifications/GRC38_HG001_SV_lt50bp_slop100bp.bed\"\n",
    "with open(outfile1, \"w+\") as fw:\n",
    "    for x in records_lt50bp:\n",
    "        fw.write(\"\\t\".join(map(str, [x.chrom, x.start, x.stop])) + \"\\n\")\n",
    "! bedtools slop -i {outfile1} -g {sizes} -b 100 > {outfile2}\n",
    "\n",
    "outfile1 = \"stratifications/GRC38_HG001_SV_gt10000bp.bed\"\n",
    "outfile2 = \"stratifications/GRC38_HG001_SV_gt10000bp_slop1000bp.bed\"\n",
    "with open(outfile1, \"w+\") as fw:\n",
    "    for x in records_gt10000bp:\n",
    "        fw.write(\"\\t\".join(map(str, [x.chrom, x.start, x.stop])) + \"\\n\")\n",
    "! bedtools slop -i {outfile1} -g {sizes} -b 1000 > {outfile2}\n",
    "\n",
    "outfile1 = \"stratifications/GRC38_HG001_SV_failed.bed\"\n",
    "outfile2 = \"stratifications/GRC38_HG001_SV_failed_slop1000bp.bed\"\n",
    "with open(outfile1, \"w+\") as fw:\n",
    "    for x in records_failed:\n",
    "        fw.write(\"\\t\".join(map(str, [x.chrom, x.start, x.stop])) + \"\\n\")\n",
    "! bedtools slop -i {outfile1} -g {sizes} -b 1000 > {outfile2}\n",
    "\n",
    "outfile1 = \"stratifications/GRC38_HG001_SV_imprecise.bed\"\n",
    "outfile2 = \"stratifications/GRC38_HG001_SV_imprecise_slop1000bp.bed\"\n",
    "with open(outfile1, \"w+\") as fw:\n",
    "    for x in records_imprecise:\n",
    "        fw.write(\"\\t\".join(map(str, [x.chrom, x.start, x.stop])) + \"\\n\")\n",
    "! bedtools slop -i {outfile1} -g {sizes} -b 1000 > {outfile2}\n",
    "\n",
    "outfile1 = \"stratifications/GRC38_HG001_SV_cluster.bed\"\n",
    "outfile2 = \"stratifications/GRC38_HG001_SV_cluster_slop1000bp.bed\"\n",
    "with open(outfile1, \"w+\") as fw:\n",
    "    for x in records_cluster:\n",
    "        fw.write(\"\\t\".join(map(str, [x.chrom, x.start, x.stop])) + \"\\n\")\n",
    "! bedtools slop -i {outfile1} -g {sizes} -b 1000 > {outfile2}"
   ]
  },
  {
   "cell_type": "code",
   "execution_count": 5,
   "id": "d819c318",
   "metadata": {
    "ExecuteTime": {
     "end_time": "2024-03-04T00:08:18.492569Z",
     "start_time": "2024-03-04T00:08:16.441518Z"
    }
   },
   "outputs": [],
   "source": [
    "# TandemRepeats, LowMappability and OtherDifficultRegions\n",
    "\n",
    "prefix = \"/home/chenzonggui/repositories/genome-stratifications/v3.1-genome-stratifications-GRCh38\"\n",
    "\n",
    "infile = prefix + \"/LowComplexity/GRCh38_allTandemRepeats.bed.gz\"\n",
    "outfile = \"stratifications/GRCh38_LowComplexity_gt500bp.bed\"\n",
    "! zcat {infile} | awk '$3-$2>500' > {outfile}\n",
    "\n",
    "infile = prefix + \"/mappability/GRCh38_lowmappabilityall.bed.gz\"\n",
    "outfile = \"stratifications/GRCh38_LowMappability_gt500bp.bed\"\n",
    "! zcat {infile} | awk '$3-$2>500' > {outfile}\n",
    "\n",
    "infile = prefix + \"/OtherDifficult/GRCh38_allOtherDifficultregions.bed.gz\"\n",
    "outfile = \"stratifications/GRCh38_OtherDifficultRegions_gt500bp.bed\"\n",
    "! zcat {infile} | awk '$3-$2>500' > {outfile}"
   ]
  },
  {
   "cell_type": "code",
   "execution_count": 6,
   "id": "9c9e11d3",
   "metadata": {
    "ExecuteTime": {
     "end_time": "2024-03-04T00:08:27.387986Z",
     "start_time": "2024-03-04T00:08:18.497590Z"
    }
   },
   "outputs": [],
   "source": [
    "for path in glob.glob(\"stratifications/*.bed\"):\n",
    "    ! sort -k1,1 -k2,2n {path} | bedtools merge -d 100 -i - | bgzip -c > {path}.gz\n",
    "    ! tabix -f -p bed {path}.gz\n",
    "    ! rm {path}"
   ]
  },
  {
   "cell_type": "code",
   "execution_count": 8,
   "id": "55e968d6",
   "metadata": {
    "ExecuteTime": {
     "end_time": "2024-03-04T00:08:37.808439Z",
     "start_time": "2024-03-04T00:08:35.356867Z"
    }
   },
   "outputs": [],
   "source": [
    "! zcat \\\n",
    "    stratifications/GRC38_HG001_SV_cluster_slop1000bp.bed.gz \\\n",
    "    stratifications/GRC38_HG001_SV_failed_slop1000bp.bed.gz \\\n",
    "    stratifications/GRC38_HG001_SV_lt50bp_slop100bp.bed.gz \\\n",
    "    stratifications/GRC38_HG001_SV_gt10000bp_slop1000bp.bed.gz \\\n",
    "    stratifications/GRC38_HG001_SV_imprecise_slop1000bp.bed.gz \\\n",
    "    stratifications/GRCh38_LowComplexity_gt500bp.bed.gz \\\n",
    "    stratifications/GRCh38_LowMappability_gt500bp.bed.gz \\\n",
    "    stratifications/GRCh38_OtherDifficultRegions_gt500bp.bed.gz \\\n",
    "    | grep -v chrY | sort -k1,1 -k2,2n | bedtools merge -d 100 -i - | bgzip -c > GRCh38_HG001_SV_benchmark_blacklist.bed.gz\n",
    "! tabix -f -p bed GRCh38_HG001_SV_benchmark_blacklist.bed.gz"
   ]
  },
  {
   "cell_type": "code",
   "execution_count": 9,
   "id": "5758cf16",
   "metadata": {
    "ExecuteTime": {
     "end_time": "2024-03-04T00:08:51.867100Z",
     "start_time": "2024-03-04T00:08:50.421547Z"
    }
   },
   "outputs": [
    {
     "name": "stdout",
     "output_type": "stream",
     "text": [
      "Blacklist regions: 89353\n"
     ]
    }
   ],
   "source": [
    "with BedFile(\"GRCh38_HG001_SV_benchmark_blacklist.bed.gz\") as f:\n",
    "    regions = [x for x in f]\n",
    "    regions.sort()\n",
    "print(\"Blacklist regions:\", len(regions))"
   ]
  },
  {
   "cell_type": "code",
   "execution_count": 10,
   "id": "fe6b6267",
   "metadata": {
    "ExecuteTime": {
     "end_time": "2024-03-04T00:09:32.217282Z",
     "start_time": "2024-03-04T00:09:29.798402Z"
    }
   },
   "outputs": [
    {
     "name": "stdout",
     "output_type": "stream",
     "text": [
      "Total SVs: 21614\n",
      "Filtered SVs: 10092\n"
     ]
    }
   ],
   "source": [
    "svs = []\n",
    "with pysam.VariantFile(\"GRCh38_HG001_SV_benchmark_callsets.vcf.gz\") as f:\n",
    "    for x in f:\n",
    "        svlen = abs(x.info[\"SVLEN\"])\n",
    "        if list(x.filter)[0] == \"PASS\" and svlen >= 50:\n",
    "            sv = GRange(chrom=x.chrom, start=x.start, end=x.stop)\n",
    "            sv.record = x\n",
    "            svs.append(sv)\n",
    "svs.sort()\n",
    "print(\"Total SVs:\", len(svs))\n",
    "\n",
    "loader = ShiftLoader(regions)\n",
    "tmp = []\n",
    "for sv in svs:\n",
    "    if len(list(loader.fetch(obj=sv))) == 0:\n",
    "        tmp.append(sv)\n",
    "svs1 = tmp\n",
    "print(\"Filtered SVs:\", len(svs1))"
   ]
  },
  {
   "cell_type": "code",
   "execution_count": 15,
   "id": "b62de59b",
   "metadata": {
    "ExecuteTime": {
     "end_time": "2024-03-04T00:10:32.979459Z",
     "start_time": "2024-03-04T00:10:32.830116Z"
    }
   },
   "outputs": [
    {
     "name": "stdout",
     "output_type": "stream",
     "text": [
      "Number\tSVTYPE\tGT\tPS\n",
      "------------------------------\n",
      "67\tDEL\t(0, 1)\t.\n",
      "1083\tDEL\t(0, 1)\t0\n",
      "1\tDEL\t(0, 1)\t1160151\n",
      "1\tDEL\t(0, 1)\t32070669\n",
      "1175\tDEL\t(1, 0)\t0\n",
      "1774\tDEL\t(1, 1)\t0\n",
      "127\tINS\t(0, 1)\t.\n",
      "1427\tINS\t(0, 1)\t0\n",
      "1\tINS\t(0, 1)\t53795557\n",
      "1404\tINS\t(1, 0)\t0\n",
      "3032\tINS\t(1, 1)\t0\n"
     ]
    }
   ],
   "source": [
    "counter = defaultdict(int)\n",
    "for sv in svs1:\n",
    "    svtype = sv.record.info[\"SVTYPE\"]\n",
    "    gt = sv.record.samples[\"HG001\"][\"GT\"]\n",
    "    ps = sv.record.samples[\"HG001\"][\"PS\"]\n",
    "    counter[(svtype, gt, ps)] += 1\n",
    "print(\"Number\\tSVTYPE\\tGT\\tPS\")\n",
    "print(\"-\" * 30)\n",
    "for k, v in sorted(counter.items()):\n",
    "    print(v, *k, sep=\"\\t\")"
   ]
  }
 ],
 "metadata": {
  "kernelspec": {
   "display_name": "Python 3",
   "language": "python",
   "name": "python3"
  },
  "language_info": {
   "codemirror_mode": {
    "name": "ipython",
    "version": 3
   },
   "file_extension": ".py",
   "mimetype": "text/x-python",
   "name": "python",
   "nbconvert_exporter": "python",
   "pygments_lexer": "ipython3",
   "version": "3.6.15"
  }
 },
 "nbformat": 4,
 "nbformat_minor": 5
}
